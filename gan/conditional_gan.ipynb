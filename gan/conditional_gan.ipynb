{
 "cells": [
  {
   "attachments": {},
   "cell_type": "markdown",
   "metadata": {},
   "source": [
    "### Imports"
   ]
  },
  {
   "cell_type": "code",
   "execution_count": null,
   "metadata": {},
   "outputs": [],
   "source": [
    "# System utilities\n",
    "import sys\n",
    "import os\n",
    "\n",
    "os.environ['TF_CPP_MIN_LOG_LEVEL'] = '3'  # FATAL\n",
    "\n",
    "# Tensorflow/Keras\n",
    "import tensorflow as tf\n",
    "from tensorflow import keras\n",
    "from keras.models import Model, Sequential,load_model # for assembling a Neural Network model\n",
    "from keras.layers import Input, Dense, Reshape, Flatten, Conv2D, Conv2DTranspose, ReLU, LeakyReLU, Dropout, Embedding,Concatenate,ReLU,LeakyReLU,BatchNormalization\n",
    "#from tensorflow.compat.v1.keras.layers import BatchNormalization\n",
    "from keras.utils import plot_model # for plotting model diagram\n",
    "from keras.optimizers import Adam # for model optimization \n",
    "#from tensorflow_docs.vis import embed\n",
    "from keras.initializers import RandomNormal\n",
    "print('Tensorflow: %s' % tf.__version__) # print version\n",
    "print('Keras: %s' % keras.__version__)\n",
    "print(\"Num GPUs Available: \", len(tf.config.list_physical_devices('GPU')))\n",
    "# Data manipulation\n",
    "import numpy as np # for data manipulation\n",
    "import sklearn\n",
    "# Visualization\n",
    "import imageio  # for ingesting images\n",
    "import matplotlib.pyplot as plt # or data visualizationa\n",
    "import graphviz # for showing model diagram\n",
    "\n",
    "# Assign main directory to a variable\n",
    "main_dir=os.path.dirname(sys.path[0])"
   ]
  },
  {
   "attachments": {},
   "cell_type": "markdown",
   "metadata": {},
   "source": [
    "### Constants and hyperparameters"
   ]
  },
  {
   "cell_type": "code",
   "execution_count": null,
   "metadata": {},
   "outputs": [],
   "source": [
    "batch_size = 128\n",
    "dataset_name = 'cifar10'\n",
    "num_channels = 3\n",
    "image_size = 32\n",
    "num_classes = 10\n",
    "latent_dim = 100"
   ]
  },
  {
   "attachments": {},
   "cell_type": "markdown",
   "metadata": {},
   "source": [
    "### Load and preprocess dataset"
   ]
  },
  {
   "cell_type": "code",
   "execution_count": null,
   "metadata": {},
   "outputs": [],
   "source": [
    "# Load MNIST dataset by default\n",
    "classes = ['0', '1', '2', '3', '4', '5', '6', '7', '8', '9']\n",
    "(X_train, y_train), (X_test, y_test) = keras.datasets.mnist.load_data()\n",
    "if dataset_name == 'mnist':\n",
    "    assert image_size == 28\n",
    "    assert num_channels == 1\n",
    "# FMNIST\n",
    "elif dataset_name=='fmnist':\n",
    "    assert image_size == 28\n",
    "    assert num_channels == 1\n",
    "    classes = ['t-shirt/top', 'trouser', 'pullover', 'dress', 'coat', 'sandal', 'shirt', 'sneaker', 'bag', 'ankle boot']\n",
    "    (X_train, y_train), (X_test, y_test) = keras.datasets.fashion_mnist.load_data()\n",
    "# CIFAR-10\n",
    "elif dataset_name=='cifar10':\n",
    "    assert image_size == 32\n",
    "    assert num_channels == 3\n",
    "    classes = ['airplane', 'automobile', 'bird', 'cat', 'deer', 'dog', 'frog', 'horse', 'ship', 'truck']\n",
    "    (X_train, y_train), (X_test, y_test) = keras.datasets.cifar10.load_data()\n",
    "else:\n",
    "    raise NotImplementedError(\"No such dataset\")\n",
    "# Use all available examples from training and test set\n",
    "X_train = np.concatenate([X_train, X_test])\n",
    "y_train = np.concatenate([y_train, y_test])\n",
    "print(\"Shape of X_train: \", X_train.shape)\n",
    "print(\"Shape of y_train: \", y_train.shape)\n",
    "\n",
    "# Display first 16 images in the training set and their true lables\n",
    "plt.figure(figsize=(6,6))\n",
    "for i in range(16):\n",
    "    plt.subplot(4,4,i+1)\n",
    "    plt.imshow(X_train[i])\n",
    "    plt.title(classes[y_train.flat[i]] )\n",
    "    plt.tight_layout()\n",
    "    plt.axis('off')\n",
    "plt.show()\n",
    "\n",
    "# Scale and reshape as required by the model\n",
    "data=X_train.copy()\n",
    "data=data.reshape(X_train.shape[0], image_size, image_size, num_channels)\n",
    "data = (data - 127.5) / 127.5  # Normalize the images to [-1, 1]"
   ]
  },
  {
   "attachments": {},
   "cell_type": "markdown",
   "metadata": {},
   "source": [
    "### Create generator and discriminator"
   ]
  },
  {
   "cell_type": "code",
   "execution_count": null,
   "metadata": {},
   "outputs": [],
   "source": [
    "# weight initializer for G per DCGAN paper\n",
    "#WEIGHT_INIT = tf.keras.initializers.RandomNormal(mean=0.0, stddev=0.02) "
   ]
  },
  {
   "cell_type": "code",
   "execution_count": null,
   "metadata": {},
   "outputs": [],
   "source": [
    "def generator(in_shape=(4,4,3), in_class=256,upsamplings=3, multnodes = 1.0, out_kernel=3):\n",
    "    # Label inputs\n",
    "    in_label = Input(shape=(1,), name='Generator_Label_Input')\n",
    "    lbls = Embedding(num_classes, 50, name='Generator_Label_Embedding')(in_label)\n",
    "    \n",
    "    # Scale up to image dimensions\n",
    "    n_nodes = in_shape[0] * in_shape[1] \n",
    "    lbls = Dense(n_nodes, name='Generator-Label-Dense-Layer')(lbls)\n",
    "    lbls = Reshape((in_shape[0], in_shape[1], 1), name='Generator-Label-Reshape-Layer')(lbls)\n",
    "\n",
    "    # Generator input from latent vector\n",
    "    in_latent = Input(shape=latent_dim, name='Generator-Latent-Input-Layer')\n",
    "    \n",
    "    # Image foundation\n",
    "    n_nodes = in_shape[0] * in_shape[1] * in_class\n",
    "    g = Dense(n_nodes, name='Generator-Foundation-Layer')(in_latent)\n",
    "    g = LeakyReLU(alpha=0.2)(g)\n",
    "    g = Reshape((in_shape[0], in_shape[1], in_class), name='Generator-Foundation-Layer-Reshape-1')(g)\n",
    "    \n",
    "    # Merge image and label\n",
    "    concat = Concatenate(name='Generator-Combine-Layer')([g, lbls])\n",
    "\n",
    "    nodeslayers = in_class\n",
    "    for i in range(upsamplings):\n",
    "        nodeslayers = nodeslayers * multnodes\n",
    "        concat = Conv2DTranspose(128, kernel_size=4, strides=2, padding='same')(concat)\n",
    "        concat = LeakyReLU(alpha=0.2)(concat)\n",
    "\n",
    "    # Output Layer\n",
    "    output_layer = Conv2D(filters=in_shape[2], kernel_size=out_kernel, activation='tanh', padding='same', name='Generator-Output-Layer')(concat)\n",
    "    \n",
    "    # Define model\n",
    "    model = Model([in_latent, in_label], output_layer, name='Generator')\n",
    "    return model\n",
    "\n",
    "# Instantiate generator\n",
    "gen_model = generator(out_kernel=5) #cifar10\n",
    "if dataset_name ==\"mnist\" or dataset_name=='fmnist':\n",
    "    gen_model = generator(in_shape=(7,7,1),in_class=128,upsamplings=2, out_kernel=7) #mnist\n",
    "\n",
    "# Show model summary and plot model diagram\n",
    "gen_model.summary()\n",
    "plot_model(gen_model, show_shapes=True, to_file=main_dir+'/gan/models/{}_generator_arch.png'.format(dataset_name))"
   ]
  },
  {
   "cell_type": "code",
   "execution_count": null,
   "metadata": {},
   "outputs": [],
   "source": [
    "def discriminator(in_class=64, downsamples=3, multnodes = 2.0, in_shape=(32, 32, 3)):\n",
    "\n",
    "    # Label Inputs\n",
    "    in_label = Input(shape=(1,), name='Discriminator-Label-Input') # Input Layer\n",
    "    lbls = Embedding(num_classes, 50, name='Discriminator-Label-Embedding')(in_label) # Embed label to vector\n",
    "    \n",
    "    # Scale up to image dimensions\n",
    "    n_nodes = in_shape[0] * in_shape[1] \n",
    "    lbls = Dense(n_nodes, name='Discriminator-Label-Dense-Layer')(lbls)\n",
    "    lbls = Reshape((in_shape[0], in_shape[1], 1), name='Discriminator-Label-Reshape')(lbls) # New shape\n",
    "\n",
    "    # Image Inputs\n",
    "    in_image = Input(shape=in_shape, name='Discriminator-Image-Input')\n",
    "    \n",
    "    # Combine both inputs so it has two channels\n",
    "    concat = Concatenate(name='Discriminator-Combine')([in_image, lbls])\n",
    "\n",
    "    #normal\n",
    "    h = Conv2D(in_class, (3,3), padding='same', input_shape=in_shape)(concat)\n",
    "    h = LeakyReLU(alpha=0.2)(h)\n",
    "\n",
    "    nodeslayers = in_class\n",
    "    for i in range(downsamples):\n",
    "        h = Conv2D(filters=nodeslayers, kernel_size=3, strides=2, padding='same')(h)\n",
    "        h = LeakyReLU(alpha=0.2)(h)\n",
    "        nodeslayers = nodeslayers * multnodes\n",
    "\n",
    "    h = Flatten(name='Discriminator-Flatten-Layer')(h)\n",
    "    h = Dropout(0.4)(h)\n",
    "    output_layer = Dense(1, activation='sigmoid', name='Discriminator-Output-Layer')(h)\n",
    "    \n",
    "    # Define model\n",
    "    model = Model([in_image, in_label], output_layer, name='Discriminator')\n",
    "    \n",
    "    # Compile the model\n",
    "    model.compile(loss='binary_crossentropy', optimizer=Adam(learning_rate=0.0002, beta_1=0.5), metrics=['accuracy'])\n",
    "    return model\n",
    "\n",
    "# Instantiate\n",
    "dis_model = discriminator() #cifar10\n",
    "if dataset_name ==\"mnist\" or dataset_name=='fmnist':\n",
    "    dis_model = discriminator(in_class=128,downsamples=2,in_shape=(28,28,1),multnodes=1.0) #mnist\n",
    "\n",
    "# Show model summary and plot model diagram\n",
    "dis_model.summary()\n",
    "plot_model(dis_model, show_shapes=True, to_file=main_dir+'/gan/models/{}_discriminator_arch.png'.format(dataset_name))"
   ]
  },
  {
   "attachments": {},
   "cell_type": "markdown",
   "metadata": {},
   "source": [
    "### Create Conditional GAN model"
   ]
  },
  {
   "cell_type": "code",
   "execution_count": null,
   "metadata": {},
   "outputs": [],
   "source": [
    "def def_gan(generator, discriminator):\n",
    "    \n",
    "    # We don't want to train the weights of discriminator at this stage. Hence, make it not trainable\n",
    "    discriminator.trainable = False\n",
    "    \n",
    "    # Get Generator inputs / outputs\n",
    "    gen_latent, gen_label = generator.input # Latent and label inputs from the generator\n",
    "    gen_output = generator.output # Generator output image\n",
    "    \n",
    "    # Connect image and label from the generator to use as input into the discriminator\n",
    "    gan_output = discriminator([gen_output, gen_label])\n",
    "    \n",
    "    # Define GAN model\n",
    "    model = Model([gen_latent, gen_label], gan_output, name=\"cDCGAN\")\n",
    "    \n",
    "    # Compile the model\n",
    "    model.compile(loss='binary_crossentropy', optimizer=Adam(learning_rate=0.0002, beta_1=0.5))\n",
    "    return model\n",
    "\n",
    "# Instantiate\n",
    "gan_model = def_gan(gen_model, dis_model)\n",
    "\n",
    "# Show model summary and plot model diagram\n",
    "gan_model.summary()\n",
    "plot_model(gan_model, show_shapes=True, to_file=main_dir+'/gan/models/{}_gan_arch.png'.format(dataset_name))"
   ]
  },
  {
   "attachments": {},
   "cell_type": "markdown",
   "metadata": {},
   "source": [
    "### Setup helper functions"
   ]
  },
  {
   "cell_type": "code",
   "execution_count": null,
   "metadata": {},
   "outputs": [],
   "source": [
    "# randomly flip some labels\n",
    "# flip labels with 5% probability\n",
    "def noisy_labels(y, p_flip=0.05):\n",
    "\t# determine the number of labels to flip\n",
    "\tn_select = int(p_flip * y.shape[0])\n",
    "\t# choose labels to flip\n",
    "\tflip_ix =np.random.choice([i for i in range(y.shape[0])], size=n_select)\n",
    "\t# invert the labels in place\n",
    "\ty[flip_ix] = 1 - y[flip_ix]\n",
    "\treturn y"
   ]
  },
  {
   "cell_type": "code",
   "execution_count": null,
   "metadata": {},
   "outputs": [],
   "source": [
    "def smooth_positive(y):\n",
    "  return y -0.2 + (np.random.random(y.shape) * 0.4)\n",
    "\n",
    "def smooth_negative(y):\n",
    "  return y + np.random.random(y.shape) * 0.3"
   ]
  },
  {
   "cell_type": "code",
   "execution_count": null,
   "metadata": {},
   "outputs": [],
   "source": [
    "def real_samples(dataset, categories, n):\n",
    "    '''Sample real images'''\n",
    "    # Create a random list of indices\n",
    "    indx = np.random.randint(0, dataset.shape[0], n)\n",
    "    \n",
    "    # Select real data samples (images and category labels) using the list of random indeces from above\n",
    "    X, cat_labels = dataset[indx], categories[indx]\n",
    "\n",
    "    # Class labels\n",
    "    y = np.ones((n, 1))\n",
    "\n",
    "    return [X, cat_labels], y"
   ]
  },
  {
   "cell_type": "code",
   "execution_count": null,
   "metadata": {},
   "outputs": [],
   "source": [
    "def latent_vector(latent_dim, n, n_cats=10):\n",
    "    '''Sample points in latent space for input to the generator'''\n",
    "    # Generate points in the latent space\n",
    "    latent_input = np.random.randn(latent_dim * n)\n",
    "    \n",
    "    # Reshape into a batch of inputs for the network\n",
    "    latent_input = latent_input.reshape(n, latent_dim)\n",
    "    \n",
    "    # Generate category labels \n",
    "    cat_labels = np.random.randint(0, n_cats, n)\n",
    "    \n",
    "    return [latent_input, cat_labels]"
   ]
  },
  {
   "cell_type": "code",
   "execution_count": null,
   "metadata": {},
   "outputs": [],
   "source": [
    "def fake_samples(generator, latent_dim, n):\n",
    "    '''Generate fake samples with class labels using the generator'''\n",
    "    # Generate points in latent space\n",
    "    latent_output, cat_labels = latent_vector(latent_dim, n)\n",
    "    \n",
    "    # Predict outputs (i.e., generate fake samples)\n",
    "    X = generator.predict([latent_output, cat_labels])\n",
    "    \n",
    "    # Create class labels\n",
    "    y = np.zeros((n, 1))\n",
    "    \n",
    "    return [X, cat_labels], y"
   ]
  },
  {
   "attachments": {},
   "cell_type": "markdown",
   "metadata": {},
   "source": [
    "### Functions for CGAN evaluation and training"
   ]
  },
  {
   "cell_type": "code",
   "execution_count": null,
   "metadata": {},
   "outputs": [],
   "source": [
    "def save_plot(examples, epoch, n=5):\n",
    "    \"\"\"\n",
    "    Create and save a plot of generated images\n",
    "    \"\"\"\n",
    "    samples = (examples[0] + 1) / 2.0\n",
    "\n",
    "    plt.figure(figsize=(6,6))\n",
    "    for i in range(n * n):\n",
    "        plt.subplot(n, n, 1 + i)\n",
    "        plt.imshow(samples[i])\n",
    "        plt.title(classes[examples[1][i]])\n",
    "        plt.axis('off')\n",
    "        plt.tight_layout()\n",
    "    filename = main_dir + '/gan/images/%s_plot_e%03d.png' % (dataset_name, epoch+1)\n",
    "    plt.savefig(filename)\n",
    "    #plt.show()\n",
    "    plt.close()"
   ]
  },
  {
   "cell_type": "code",
   "execution_count": null,
   "metadata": {},
   "outputs": [],
   "source": [
    "def summarize_performance(epoch, g_model, d_model, data, latent_dim, n_samples=150):\n",
    "    \"\"\"\n",
    "    Evaluate the discriminator, plot generated images, and save generator model\n",
    "    \"\"\"\n",
    "    X_real, Y_real = real_samples(data,y_train, n_samples)\n",
    "    _, acc_real = d_model.evaluate(X_real, Y_real, verbose=0)   # evaluate discriminator on real samples\n",
    "    X_fake, Y_fake = fake_samples(g_model, latent_dim, n_samples)\n",
    "    _, acc_fake = d_model.evaluate(X_fake, Y_fake, verbose=0)   # evaluate discriminator on fake samples\n",
    "    print('Accuracy> real: %.0f%%, fake: %.0f%%' % (acc_real*100, acc_fake*100))    # summarize discriminator performance\n",
    "    save_plot(X_fake, epoch)\n",
    "    #filename = main_dir + '/gan/models/%s_gan_%03d.h5' % (dataset_name, epoch + 1)\n",
    "    filename = main_dir + '/gan/models/%s_gan.h5' % (dataset_name)\n",
    "    g_model.save(filename)"
   ]
  },
  {
   "cell_type": "code",
   "execution_count": null,
   "metadata": {},
   "outputs": [],
   "source": [
    "def train(g_model, d_model, gan_model, dataset, categories, n_epochs=10, n_eval=200):\n",
    "    \"\"\"Function to train the cDCGAN model (generator and discriminator)\"\"\"\n",
    "    # Number of batches to use per each epoch\n",
    "    batch_per_epoch = int(dataset.shape[0] / batch_size)\n",
    "    print('batch_per_epoch: ',  batch_per_epoch)\n",
    "    # The batch to train the discriminator will consist of half real images and half fake (generated) images\n",
    "    half_batch = int(batch_size / 2)\n",
    "    \n",
    "    # Manually enumerate epochs \n",
    "    for i in range(n_epochs):\n",
    "        # Enumerate batches over the training set\n",
    "        for j in range(batch_per_epoch):\n",
    "            # Prep real samples\n",
    "            [x_real, cat_labels_real], y_real = real_samples(dataset, categories, half_batch)\n",
    "            # Prep fake samples\n",
    "            [x_fake, cat_labels_fake], y_fake = fake_samples(g_model, latent_dim, half_batch)\n",
    "            # Apply one-sided label smoothing to real labels\n",
    "            #y_real = smooth_positive(y_real)\n",
    "            # Apply one-sided label smoothing to real labels\n",
    "            #y_fake = smooth_negative(y_fake)\n",
    "            # Apply noise to labels\n",
    "            y_real = noisy_labels(y_real)\n",
    "            y_fake = noisy_labels(y_fake)\n",
    "            # Train discriminator with real samples\n",
    "            discriminator_loss1, _ = d_model.train_on_batch([x_real, cat_labels_real], y_real)\n",
    "            # Train discriminator with fake samples\n",
    "            discriminator_loss2, _ = d_model.train_on_batch([x_fake, cat_labels_fake], y_fake)\n",
    "            # Get values from the latent space to be used as inputs for the generator\n",
    "            [latent_input, cat_labels] = latent_vector(latent_dim, batch_size)\n",
    "            # While we are generating fake samples, \n",
    "            # we want GAN generator model to create examples that resemble the real ones,\n",
    "            # hence we want to pass labels corresponding to real samples, i.e. y=1, not 0.\n",
    "            #y_gan = smooth_positive(np.ones((batch_size, 1)))\n",
    "            y_gan = np.ones((batch_size, 1))\n",
    "\n",
    "            # Train the generator via a composite GAN model\n",
    "            generator_loss = gan_model.train_on_batch([latent_input, cat_labels], y_gan)\n",
    "        \n",
    "            # Summarize training progress and loss on this batch\n",
    "            if (j) % n_eval == 0:\n",
    "                print('Epoch: %d, Batch: %d/%d, D_Loss_Real=%.3f, D_Loss_Fake=%.3f Gen_Loss=%.3f' % \n",
    "                      (i+1, j+1, batch_per_epoch, discriminator_loss1, discriminator_loss2, generator_loss))\n",
    "                #show_fakes(g_model, latent_dim)\n",
    "        # evaluate the model performance every 10 epochs\n",
    "        #if (i+1) % 10 == 0: \n",
    "        summarize_performance(i, g_model, d_model, dataset, latent_dim)"
   ]
  },
  {
   "attachments": {},
   "cell_type": "markdown",
   "metadata": {},
   "source": [
    "### Train the model and display results"
   ]
  },
  {
   "cell_type": "code",
   "execution_count": null,
   "metadata": {},
   "outputs": [],
   "source": [
    "keras.utils.disable_interactive_logging()\n",
    "# Train cDCGAN model\n",
    "train(gen_model, dis_model, gan_model, data, y_train,n_epochs=500)"
   ]
  },
  {
   "attachments": {},
   "cell_type": "markdown",
   "metadata": {},
   "source": [
    "### Save model"
   ]
  },
  {
   "cell_type": "code",
   "execution_count": null,
   "metadata": {},
   "outputs": [],
   "source": [
    "# We need to compile the generator to avoid a warning. This is because we have previously only copiled within the larger cDCGAN model\n",
    "gen_model.compile(loss='binary_crossentropy', optimizer=Adam(learning_rate=0.0002, beta_1=0.5))\n",
    "# Save the Generator on your drive\n",
    "gen_model.save(main_dir+'/gan/models/{}_gan.h5'.format(dataset_name))"
   ]
  },
  {
   "attachments": {},
   "cell_type": "markdown",
   "metadata": {},
   "source": [
    "### Generate images"
   ]
  },
  {
   "cell_type": "code",
   "execution_count": null,
   "metadata": {},
   "outputs": [],
   "source": [
    "# Generate latent points\n",
    "latent_points, _ = latent_vector(latent_dim, 100)\n",
    "\n",
    "# Specify labels that we want (0-9 repeated 10 times)\n",
    "labels = np.asarray([x for _ in range(10) for x in range(10)])\n",
    "print(labels)\n",
    "\n",
    "# Load previously saved generator model\n",
    "model = load_model(main_dir+'/gan/models/{}_gan.h5'.format(dataset_name))\n",
    "\n",
    "# Generate images\n",
    "gen_imgs  = model.predict([latent_points, labels])\n",
    "\n",
    "# Scale from [-1, 1] to [0, 1]\n",
    "gen_imgs = (gen_imgs + 1) / 2.0\n",
    "\n",
    "# Display images\n",
    "# fig, axs = plt.subplots(10, 10, sharey=False, tight_layout=True, figsize=(16,16), facecolor='white')\n",
    "# k=0\n",
    "# for i in range(0,10):\n",
    "#     for j in range(0,10):\n",
    "#         axs[i,j].matshow(gen_imgs[k], cmap='gray')\n",
    "#         axs[0,j].set(title=labels[k])\n",
    "#         axs[i,j].axis('off')\n",
    "#         k=k+1\n",
    "# plt.show()\n",
    "\n",
    "#********************************************************\n",
    "labels = keras.utils.to_categorical(labels, 10)\n",
    "dataset = tf.data.Dataset.from_tensor_slices((gen_imgs,labels))\n",
    "dataset = dataset.shuffle(buffer_size=1024).batch(64)\n",
    "plt.figure(figsize=(6, 6))\n",
    "for images, labels in dataset.take(1):\n",
    "    for i in range(25):\n",
    "        ax = plt.subplot(5, 5, i + 1)\n",
    "        plt.imshow(images[i])\n",
    "        plt.title(classes[np.argmax(labels[i])])\n",
    "        plt.axis(\"off\")\n",
    "        plt.tight_layout()\n",
    "plt.show()\n",
    "#****************************************"
   ]
  },
  {
   "attachments": {},
   "cell_type": "markdown",
   "metadata": {},
   "source": [
    "# End of Program"
   ]
  }
 ],
 "metadata": {
  "kernelspec": {
   "display_name": "base",
   "language": "python",
   "name": "python3"
  },
  "language_info": {
   "codemirror_mode": {
    "name": "ipython",
    "version": 3
   },
   "file_extension": ".py",
   "mimetype": "text/x-python",
   "name": "python",
   "nbconvert_exporter": "python",
   "pygments_lexer": "ipython3",
   "version": "3.9.13"
  },
  "orig_nbformat": 4,
  "vscode": {
   "interpreter": {
    "hash": "84d8cac4d95fdd2ab02498a6ec40a50cb9882041e67cb52e6d8bcfda00d28db9"
   }
  }
 },
 "nbformat": 4,
 "nbformat_minor": 2
}
